{
  "nbformat": 4,
  "nbformat_minor": 0,
  "metadata": {
    "colab": {
      "name": "covidPredictionIndia.ipynb",
      "provenance": [],
      "collapsed_sections": [],
      "mount_file_id": "1s-cPE0hl24uDfJycBX9mjm9OzAHnG1oD",
      "authorship_tag": "ABX9TyNtxVNKpXKQ7cH7yuDPLJR3",
      "include_colab_link": true
    },
    "kernelspec": {
      "name": "python3",
      "display_name": "Python 3"
    }
  },
  "cells": [
    {
      "cell_type": "markdown",
      "metadata": {
        "id": "view-in-github",
        "colab_type": "text"
      },
      "source": [
        "<a href=\"https://colab.research.google.com/github/asritha261091/covidPredictionIndia/blob/master/covidPredictionIndia.ipynb\" target=\"_parent\"><img src=\"https://colab.research.google.com/assets/colab-badge.svg\" alt=\"Open In Colab\"/></a>"
      ]
    },
    {
      "cell_type": "code",
      "metadata": {
        "id": "HAnGvKy7c5dt",
        "colab_type": "code",
        "outputId": "5d197297-c5e4-4e8e-a900-4234153b0d38",
        "colab": {
          "base_uri": "https://localhost:8080/",
          "height": 55
        }
      },
      "source": [
        "from google.colab import drive\n",
        "drive.mount('/content/drive')"
      ],
      "execution_count": 0,
      "outputs": [
        {
          "output_type": "stream",
          "text": [
            "Drive already mounted at /content/drive; to attempt to forcibly remount, call drive.mount(\"/content/drive\", force_remount=True).\n"
          ],
          "name": "stdout"
        }
      ]
    },
    {
      "cell_type": "code",
      "metadata": {
        "id": "_Yrh8NaOfxO0",
        "colab_type": "code",
        "colab": {}
      },
      "source": [
        "import warnings\n",
        "warnings.filterwarnings('ignore')"
      ],
      "execution_count": 0,
      "outputs": []
    },
    {
      "cell_type": "code",
      "metadata": {
        "id": "l8q-Y0FQgLkF",
        "colab_type": "code",
        "colab": {}
      },
      "source": [
        "import numpy as np\n",
        "from math import sqrt\n",
        "from sklearn.metrics import mean_squared_error\n",
        "import pandas as pd"
      ],
      "execution_count": 0,
      "outputs": []
    },
    {
      "cell_type": "code",
      "metadata": {
        "id": "vAJWT8LOgQkm",
        "colab_type": "code",
        "colab": {}
      },
      "source": [
        "url='https://raw.githubusercontent.com/CSSEGISandData/COVID-19/master/csse_covid_19_data/csse_covid_19_time_series/\n",
        "time_series_covid19_confirmed_global.csv'\n",
        "confirmed = pd.read_csv(url, error_bad_lines=False)"
      ],
      "execution_count": 0,
      "outputs": []
    },
    {
      "cell_type": "code",
      "metadata": {
        "id": "Q0i-6pgrhQbO",
        "colab_type": "code",
        "colab": {}
      },
      "source": [
        "url = 'https://raw.githubusercontent.com/CSSEGISandData/COVID-19/master/csse_covid_19_data/csse_covid_19_time_series/time_series_covid19_deaths_global.csv'\n",
        "death = pd.read_csv(url, error_bad_lines=False)"
      ],
      "execution_count": 0,
      "outputs": []
    },
    {
      "cell_type": "code",
      "metadata": {
        "id": "k6STpXsfhWJN",
        "colab_type": "code",
        "colab": {}
      },
      "source": [
        "url = 'https://raw.githubusercontent.com/CSSEGISandData/COVID-19/master/csse_covid_19_data/csse_covid_19_time_series/time_series_covid19_recovered_global.csv'\n",
        "recover = pd.read_csv(url, error_bad_lines=False)"
      ],
      "execution_count": 0,
      "outputs": []
    },
    {
      "cell_type": "code",
      "metadata": {
        "id": "DScIgdUwhazS",
        "colab_type": "code",
        "colab": {}
      },
      "source": [
        "confirmed['Country/Region']= confirmed['Country/Region'].str.replace(\"Mainland China\", \"China\")\n",
        "confirmed['Country/Region']= confirmed['Country/Region'].str.replace(\"US\", \"Unites States\")\n",
        "death['Country/Region']= death['Country/Region'].str.replace(\"Mainland China\", \"China\")\n",
        "death['Country/Region']= death['Country/Region'].str.replace(\"US\", \"Unites States\")\n",
        "recover['Country/Region']= recover['Country/Region'].str.replace(\"Mainland China\", \"China\")\n",
        "recover['Country/Region']= recover['Country/Region'].str.replace(\"US\", \"Unites States\")"
      ],
      "execution_count": 0,
      "outputs": []
    },
    {
      "cell_type": "code",
      "metadata": {
        "id": "ikPK5MmEhq1m",
        "colab_type": "code",
        "colab": {}
      },
      "source": [
        "population=pd.read_csv('https://raw.githubusercontent.com/Rank23/COVID19/master/population.csv', sep=',', encoding='latin1') "
      ],
      "execution_count": 0,
      "outputs": []
    },
    {
      "cell_type": "code",
      "metadata": {
        "id": "87SX8TkHhwea",
        "colab_type": "code",
        "colab": {}
      },
      "source": [
        "confirmed=pd.merge(confirmed, population,how='left' ,on=['Province/State','Country/Region'])\n",
        "death=pd.merge(death, population,how='left' ,on=['Province/State','Country/Region'])\n",
        "recover=pd.merge(recover, population,how='left' ,on=['Province/State','Country/Region'])"
      ],
      "execution_count": 0,
      "outputs": []
    },
    {
      "cell_type": "code",
      "metadata": {
        "id": "gUIvkYBQmf3N",
        "colab_type": "code",
        "colab": {}
      },
      "source": [
        "confirmed['region']=confirmed['Country/Region'].map(str)+'_'+confirmed['Province/State'].map(str)\n",
        "death['region']=death['Country/Region'].map(str)+'_'+death['Province/State'].map(str)\n",
        "recover['region']=recover['Country/Region'].map(str)+'_'+recover['Province/State'].map(str)"
      ],
      "execution_count": 0,
      "outputs": []
    },
    {
      "cell_type": "code",
      "metadata": {
        "id": "M9Revm7MiPCX",
        "colab_type": "code",
        "colab": {}
      },
      "source": [
        "def create_ts(df):\n",
        "  ts=df\n",
        "  ts=ts.drop(['Province/State', 'Country/Region','Lat', 'Long',' Population '], axis=1)\n",
        "  ts.set_index('region')\n",
        "  ts=ts.T\n",
        "  ts.columns=ts.loc['region']\n",
        "  ts=ts.drop('region')\n",
        "  ts=ts.fillna(0)\n",
        "  ts=ts.reindex(sorted(ts.columns), axis=1)\n",
        "  return (ts)"
      ],
      "execution_count": 0,
      "outputs": []
    },
    {
      "cell_type": "code",
      "metadata": {
        "id": "Q7E3XkU-ieH7",
        "colab_type": "code",
        "colab": {}
      },
      "source": [
        "# confirmed case / 확진된 케이스 dataframe\n",
        "ts_c=create_ts(confirmed)\n",
        "\n",
        "# deceased case / 사망한 케이스 dataframe\n",
        "ts_d=create_ts(death)\n",
        "\n",
        "# recovered case /  완치된 케이스 dataframe\n",
        "ts_rec=create_ts(recover)"
      ],
      "execution_count": 0,
      "outputs": []
    },
    {
      "cell_type": "code",
      "metadata": {
        "id": "32n-Y1Ytm1OD",
        "colab_type": "code",
        "outputId": "87fd0cc6-f27d-4fda-9748-a7e2dae401d3",
        "colab": {
          "base_uri": "https://localhost:8080/",
          "height": 305
        }
      },
      "source": [
        "import matplotlib.pyplot as plt\n",
        "p_c=ts_c.reindex(ts_c.max().sort_values(ascending=False).index, axis=1)\n",
        "p_c.iloc[:,11].plot(marker='*',figsize=(10,4)).set_title('Daily Confirmed - India',fontdict={'fontsize': 22})"
      ],
      "execution_count": 0,
      "outputs": [
        {
          "output_type": "execute_result",
          "data": {
            "text/plain": [
              "Text(0.5, 1.0, 'Daily Confirmed - India')"
            ]
          },
          "metadata": {
            "tags": []
          },
          "execution_count": 13
        },
        {
          "output_type": "display_data",
          "data": {
            "image/png": "[encoded data removed]",
            "text/plain": [
              "<Figure size 720x288 with 1 Axes>"
            ]
          },
          "metadata": {
            "tags": [],
            "needs_background": "light"
          }
        }
      ]
    },
    {
      "cell_type": "code",
      "metadata": {
        "id": "jCRtPPXxG3vn",
        "colab_type": "code",
        "outputId": "a7064f3d-79b8-475b-adb9-f80c85c461b1",
        "colab": {
          "base_uri": "https://localhost:8080/",
          "height": 305
        }
      },
      "source": [
        "p_r=ts_rec.reindex(ts_rec.max().sort_values(ascending=False).index, axis=1)\n",
        "p_r.iloc[:,11].plot(marker='*',figsize=(10,4)).set_title('Daily Recovered - India',fontdict={'fontsize': 22})"
      ],
      "execution_count": 0,
      "outputs": [
        {
          "output_type": "execute_result",
          "data": {
            "text/plain": [
              "Text(0.5, 1.0, 'Daily Recovered - India')"
            ]
          },
          "metadata": {
            "tags": []
          },
          "execution_count": 14
        },
        {
          "output_type": "display_data",
          "data": {
            "image/png": "[encoded data removed]",
            "text/plain": [
              "<Figure size 720x288 with 1 Axes>"
            ]
          },
          "metadata": {
            "tags": [],
            "needs_background": "light"
          }
        }
      ]
    },
    {
      "cell_type": "code",
      "metadata": {
        "id": "c7AUbU9NHIrI",
        "colab_type": "code",
        "outputId": "526192a0-daf1-456e-e5df-f6c1d8607a72",
        "colab": {
          "base_uri": "https://localhost:8080/",
          "height": 305
        }
      },
      "source": [
        "p_d=ts_d.reindex(ts_d.max().sort_values(ascending=False).index, axis=1)\n",
        "p_d.iloc[:,11].plot(marker='*',figsize=(10,4)).set_title('Daily Deaths - India',fontdict={'fontsize': 22})"
      ],
      "execution_count": 0,
      "outputs": [
        {
          "output_type": "execute_result",
          "data": {
            "text/plain": [
              "Text(0.5, 1.0, 'Daily Deaths - India')"
            ]
          },
          "metadata": {
            "tags": []
          },
          "execution_count": 15
        },
        {
          "output_type": "display_data",
          "data": {
            "image/png": "[encoded data removed]",
            "text/plain": [
              "<Figure size 720x288 with 1 Axes>"
            ]
          },
          "metadata": {
            "tags": [],
            "needs_background": "light"
          }
        }
      ]
    },
    {
      "cell_type": "code",
      "metadata": {
        "id": "ubYPyhOLn3nY",
        "colab_type": "code",
        "colab": {}
      },
      "source": [
        "ts_confirmed=ts_c.reset_index()\n",
        "ts_confirmed=ts_confirmed.rename(columns = {'index':'date'})\n",
        "ts_confirmed['date']=pd.to_datetime(ts_confirmed['date'] ,errors ='coerce')"
      ],
      "execution_count": 0,
      "outputs": []
    },
    {
      "cell_type": "code",
      "metadata": {
        "id": "3jrlb_lvn_EG",
        "colab_type": "code",
        "colab": {}
      },
      "source": [
        "project_path_py =r'/content/drive/My Drive/ts_confirmed.csv' \n",
        "ts_confirmed.to_csv(project_path_py)"
      ],
      "execution_count": 0,
      "outputs": []
    },
    {
      "cell_type": "code",
      "metadata": {
        "id": "VewLvNgsoHrn",
        "colab_type": "code",
        "colab": {}
      },
      "source": [
        "import rpy2\n",
        "%load_ext rpy2.ipython"
      ],
      "execution_count": 0,
      "outputs": []
    },
    {
      "cell_type": "code",
      "metadata": {
        "id": "lwICGvINoLfi",
        "colab_type": "code",
        "outputId": "a4dcfc6b-428e-4979-ac14-a73c65acbe77",
        "colab": {
          "base_uri": "https://localhost:8080/",
          "height": 1000
        }
      },
      "source": [
        "%%R\n",
        "install.packages('pracma')\n",
        "install.packages('reshape')"
      ],
      "execution_count": 0,
      "outputs": [
        {
          "output_type": "stream",
          "text": [
            "R[write to console]: Installing package into ‘/usr/local/lib/R/site-library’\n",
            "(as ‘lib’ is unspecified)\n",
            "\n",
            "R[write to console]: trying URL 'https://cran.rstudio.com/src/contrib/pracma_2.2.9.tar.gz'\n",
            "\n",
            "R[write to console]: Content type 'application/x-gzip'\n",
            "R[write to console]:  length 400551 bytes (391 KB)\n",
            "\n",
            "R[write to console]: =\n",
            "R[write to console]: =\n",
            "R[write to console]: =\n",
            "R[write to console]: =\n",
            "R[write to console]: =\n",
            "R[write to console]: =\n",
            "R[write to console]: =\n",
            "R[write to console]: =\n",
            "R[write to console]: =\n",
            "R[write to console]: =\n",
            "R[write to console]: =\n",
            "R[write to console]: =\n",
            "R[write to console]: =\n",
            "R[write to console]: =\n",
            "R[write to console]: =\n",
            "R[write to console]: =\n",
            "R[write to console]: =\n",
            "R[write to console]: =\n",
            "R[write to console]: =\n",
            "R[write to console]: =\n",
            "R[write to console]: =\n",
            "R[write to console]: =\n",
            "R[write to console]: =\n",
            "R[write to console]: =\n",
            "R[write to console]: =\n",
            "R[write to console]: =\n",
            "R[write to console]: =\n",
            "R[write to console]: =\n",
            "R[write to console]: =\n",
            "R[write to console]: =\n",
            "R[write to console]: =\n",
            "R[write to console]: =\n",
            "R[write to console]: =\n",
            "R[write to console]: =\n",
            "R[write to console]: =\n",
            "R[write to console]: =\n",
            "R[write to console]: =\n",
            "R[write to console]: =\n",
            "R[write to console]: =\n",
            "R[write to console]: =\n",
            "R[write to console]: =\n",
            "R[write to console]: =\n",
            "R[write to console]: =\n",
            "R[write to console]: =\n",
            "R[write to console]: =\n",
            "R[write to console]: =\n",
            "R[write to console]: =\n",
            "R[write to console]: =\n",
            "R[write to console]: =\n",
            "R[write to console]: =\n",
            "R[write to console]: \n",
            "\n",
            "R[write to console]: downloaded 391 KB\n",
            "\n",
            "\n",
            "R[write to console]: \n",
            "\n",
            "R[write to console]: \n",
            "R[write to console]: The downloaded source packages are in\n",
            "\t‘/tmp/RtmpcobIXT/downloaded_packages’\n",
            "R[write to console]: \n",
            "R[write to console]: \n",
            "\n",
            "R[write to console]: Installing package into ‘/usr/local/lib/R/site-library’\n",
            "(as ‘lib’ is unspecified)\n",
            "\n",
            "R[write to console]: trying URL 'https://cran.rstudio.com/src/contrib/reshape_0.8.8.tar.gz'\n",
            "\n",
            "R[write to console]: Content type 'application/x-gzip'\n",
            "R[write to console]:  length 42558 bytes (41 KB)\n",
            "\n",
            "R[write to console]: =\n",
            "R[write to console]: =\n",
            "R[write to console]: =\n",
            "R[write to console]: =\n",
            "R[write to console]: =\n",
            "R[write to console]: =\n",
            "R[write to console]: =\n",
            "R[write to console]: =\n",
            "R[write to console]: =\n",
            "R[write to console]: =\n",
            "R[write to console]: =\n",
            "R[write to console]: =\n",
            "R[write to console]: =\n",
            "R[write to console]: =\n",
            "R[write to console]: =\n",
            "R[write to console]: =\n",
            "R[write to console]: =\n",
            "R[write to console]: =\n",
            "R[write to console]: =\n",
            "R[write to console]: =\n",
            "R[write to console]: =\n",
            "R[write to console]: =\n",
            "R[write to console]: =\n",
            "R[write to console]: =\n",
            "R[write to console]: =\n",
            "R[write to console]: =\n",
            "R[write to console]: =\n",
            "R[write to console]: =\n",
            "R[write to console]: =\n",
            "R[write to console]: =\n",
            "R[write to console]: =\n",
            "R[write to console]: =\n",
            "R[write to console]: =\n",
            "R[write to console]: =\n",
            "R[write to console]: =\n",
            "R[write to console]: =\n",
            "R[write to console]: =\n",
            "R[write to console]: =\n",
            "R[write to console]: =\n",
            "R[write to console]: =\n",
            "R[write to console]: =\n",
            "R[write to console]: =\n",
            "R[write to console]: =\n",
            "R[write to console]: =\n",
            "R[write to console]: =\n",
            "R[write to console]: =\n",
            "R[write to console]: =\n",
            "R[write to console]: =\n",
            "R[write to console]: =\n",
            "R[write to console]: =\n",
            "R[write to console]: \n",
            "\n",
            "R[write to console]: downloaded 41 KB\n",
            "\n",
            "\n",
            "R[write to console]: \n",
            "\n",
            "R[write to console]: \n",
            "R[write to console]: The downloaded source packages are in\n",
            "\t‘/tmp/RtmpcobIXT/downloaded_packages’\n",
            "R[write to console]: \n",
            "R[write to console]: \n",
            "\n"
          ],
          "name": "stderr"
        }
      ]
    },
    {
      "cell_type": "code",
      "metadata": {
        "id": "Mq0VPVOKoQ_2",
        "colab_type": "code",
        "colab": {}
      },
      "source": [
        "%%R\n",
        "# ENTER YOUR GOOGLE DRIVE PATH TO THE COLABORATORY\n",
        "# 위에서 정의한 project_path_py와 동일한 폴더로 경로를 지정해주시면 됩니다.\n",
        "confirmed_path_R = '/content/drive/My Drive/ts_confirmed.csv'"
      ],
      "execution_count": 0,
      "outputs": []
    },
    {
      "cell_type": "code",
      "metadata": {
        "id": "weKmFlyco6bF",
        "colab_type": "code",
        "outputId": "0eb98424-4cd4-4b4b-ece5-06754094df8c",
        "colab": {
          "base_uri": "https://localhost:8080/",
          "height": 260
        }
      },
      "source": [
        "%%R\n",
        "require(pracma)\n",
        "require(Metrics)\n",
        "require(readr)\n",
        "all<- read_csv(confirmed_path_R)\n",
        "all$X1<-NULL\n",
        "date<-all[,1]\n",
        "date[nrow(date) + 1,1] <-all[nrow(all),1]+1\n",
        "pred_all<-NULL\n",
        "for (n in 2:ncol(all)-1) {\n",
        "  Y<-ts(data = all[n+1], start = 1, end =nrow(all)+1)  \n",
        "  sig_w<-0.01\n",
        "  w<-sig_w*randn(1,100) # acceleration which denotes the fluctuation (Q/R) rnorm(100, mean = 0, sd = 1)\n",
        "  sig_v<-0.01\n",
        "  v<-sig_v*randn(1,100)   \n",
        "  t<-0.45\n",
        "  phi<-matrix(c(1,0,t,1),2,2)\n",
        "  gama<-matrix(c(0.5*t^2,t),2,1)\n",
        "  H<-matrix(c(1,0),1,2)\n",
        "  #Kalman\n",
        "  x0_0<-p0_0<-matrix(c(0,0),2,1)\n",
        "  p0_0<-matrix(c(1,0,0,1),2,2)\n",
        "  Q<-0.01\n",
        "  R<-0.01\n",
        "  X<-NULL\n",
        "  X2<-NULL\n",
        "  pred<-NULL\n",
        "  for (i in 0:nrow(all)) {\n",
        "    namp <-paste(\"p\", i+1,\"_\",i, sep = \"\")\n",
        "    assign(namp, phi%*%(get(paste(\"p\", i,\"_\",i, sep = \"\")))%*%t(phi)+gama%*%Q%*%t(gama))\n",
        "    namk <- paste(\"k\", i+1, sep = \"\")\n",
        "    assign(namk,get(paste(\"p\", i+1,\"_\",i, sep = \"\"))%*%t(H)%*%(1/(H%*%get(paste(\"p\", i+1,\"_\",i, sep = \"\"))%*%t(H)+R)))\n",
        "    namx <- paste(\"x\", i+1,\"_\",i, sep = \"\")\n",
        "    assign(namx,phi%*%get(paste(\"x\", i,\"_\",i, sep = \"\")))\n",
        "    namE <- paste(\"E\", i+1, sep = \"\")\n",
        "    assign(namE,Y[i+1]-H%*%get(paste(\"x\", i+1,\"_\",i, sep = \"\")))\n",
        "    namx2 <- paste(\"x\", i+1,\"_\",i+1, sep = \"\")\n",
        "    assign(namx2,get(paste(\"x\", i+1,\"_\",i, sep = \"\"))+get(paste(\"k\", i+1, sep = \"\"))%*%get(paste(\"E\", i+1, sep = \"\")))\n",
        "    namp2 <- paste(\"p\", i+1,\"_\",i+1, sep = \"\")\n",
        "    assign(namp2,(p0_0-get(paste(\"k\", i+1, sep = \"\"))%*%H)%*%get(paste(\"p\", i+1,\"_\",i, sep = \"\")))\n",
        "    X<-rbind(X,get(paste(\"x\", i+1,\"_\",i,sep = \"\"))[1])\n",
        "    X2<-rbind(X2,get(paste(\"x\", i+1,\"_\",i,sep = \"\"))[2])\n",
        "    if(i>2){\n",
        "      remove(list=(paste(\"p\", i-1,\"_\",i-2, sep = \"\")))\n",
        "      remove(list=(paste(\"k\", i-1, sep = \"\")))\n",
        "      remove(list=(paste(\"E\", i-1, sep = \"\")))\n",
        "      remove(list=(paste(\"p\", i-2,\"_\",i-2, sep = \"\")))\n",
        "      remove(list=(paste(\"x\", i-1,\"_\",i-2, sep = \"\")))\n",
        "      remove(list=(paste(\"x\", i-2,\"_\",i-2, sep = \"\")))}\n",
        "  }\n",
        "  pred<-NULL\n",
        "  pred<-cbind(Y,X,round(X2,4))\n",
        "  pred<-as.data.frame(pred)\n",
        "  pred$region<-colnames(all[,n+1])\n",
        "  pred$date<-date$date\n",
        "  pred$actual<-rbind(0,(cbind(pred[2:nrow(pred),1])/pred[1:nrow(pred)-1,1]-1)*100)\n",
        "  pred$predict<-rbind(0,(cbind(pred[2:nrow(pred),2])/pred[1:nrow(pred)-1,2]-1)*100)\n",
        "  pred$pred_rate<-(pred$X/pred$Y-1)*100\n",
        "  pred$X2_change<-rbind(0,(cbind(pred[2:nrow(pred),3]-pred[1:nrow(pred)-1,3])))\n",
        "  pred_all<-rbind(pred_all,pred)\n",
        "}\n",
        "pred_all<-cbind(pred_all[,4:5],pred_all[,1:3])\n",
        "names(pred_all)[5]<-\"X2\"\n",
        "pred_all=pred_all[with( pred_all, order(region, date)), ]\n",
        "pred_all<-pred_all[,3:5]"
      ],
      "execution_count": 0,
      "outputs": [
        {
          "output_type": "stream",
          "text": [
            "R[write to console]: Loading required package: pracma\n",
            "\n",
            "R[write to console]: Loading required package: Metrics\n",
            "\n",
            "R[write to console]: Loading required package: readr\n",
            "\n",
            "R[write to console]: Parsed with column specification:\n",
            "cols(\n",
            "  .default = col_double(),\n",
            "  date = col_date(format = \"\")\n",
            ")\n",
            "\n",
            "R[write to console]: See spec(...) for full column specifications.\n",
            "\n"
          ],
          "name": "stderr"
        }
      ]
    },
    {
      "cell_type": "code",
      "metadata": {
        "id": "lqq6lLk5pEFJ",
        "colab_type": "code",
        "outputId": "566bdee0-6b66-4414-e7d4-ddd79dd171b0",
        "colab": {
          "base_uri": "https://localhost:8080/",
          "height": 415
        }
      },
      "source": [
        "p=%R pred_all\n",
        "p"
      ],
      "execution_count": 0,
      "outputs": [
        {
          "output_type": "execute_result",
          "data": {
            "text/html": [
              "<div>\n",
              "<style scoped>\n",
              "    .dataframe tbody tr th:only-of-type {\n",
              "        vertical-align: middle;\n",
              "    }\n",
              "\n",
              "    .dataframe tbody tr th {\n",
              "        vertical-align: top;\n",
              "    }\n",
              "\n",
              "    .dataframe thead th {\n",
              "        text-align: right;\n",
              "    }\n",
              "</style>\n",
              "<table border=\"1\" class=\"dataframe\">\n",
              "  <thead>\n",
              "    <tr style=\"text-align: right;\">\n",
              "      <th></th>\n",
              "      <th>Y</th>\n",
              "      <th>X</th>\n",
              "      <th>X2</th>\n",
              "    </tr>\n",
              "  </thead>\n",
              "  <tbody>\n",
              "    <tr>\n",
              "      <th>1</th>\n",
              "      <td>0.0</td>\n",
              "      <td>0.000000</td>\n",
              "      <td>0.0000</td>\n",
              "    </tr>\n",
              "    <tr>\n",
              "      <th>2</th>\n",
              "      <td>0.0</td>\n",
              "      <td>0.000000</td>\n",
              "      <td>0.0000</td>\n",
              "    </tr>\n",
              "    <tr>\n",
              "      <th>3</th>\n",
              "      <td>0.0</td>\n",
              "      <td>0.000000</td>\n",
              "      <td>0.0000</td>\n",
              "    </tr>\n",
              "    <tr>\n",
              "      <th>4</th>\n",
              "      <td>0.0</td>\n",
              "      <td>0.000000</td>\n",
              "      <td>0.0000</td>\n",
              "    </tr>\n",
              "    <tr>\n",
              "      <th>5</th>\n",
              "      <td>0.0</td>\n",
              "      <td>0.000000</td>\n",
              "      <td>0.0000</td>\n",
              "    </tr>\n",
              "    <tr>\n",
              "      <th>...</th>\n",
              "      <td>...</td>\n",
              "      <td>...</td>\n",
              "      <td>...</td>\n",
              "    </tr>\n",
              "    <tr>\n",
              "      <th>31384</th>\n",
              "      <td>37.0</td>\n",
              "      <td>37.079164</td>\n",
              "      <td>0.9952</td>\n",
              "    </tr>\n",
              "    <tr>\n",
              "      <th>31385</th>\n",
              "      <td>42.0</td>\n",
              "      <td>37.478177</td>\n",
              "      <td>0.9693</td>\n",
              "    </tr>\n",
              "    <tr>\n",
              "      <th>31386</th>\n",
              "      <td>42.0</td>\n",
              "      <td>40.703877</td>\n",
              "      <td>2.4515</td>\n",
              "    </tr>\n",
              "    <tr>\n",
              "      <th>31387</th>\n",
              "      <td>44.0</td>\n",
              "      <td>42.606629</td>\n",
              "      <td>2.8763</td>\n",
              "    </tr>\n",
              "    <tr>\n",
              "      <th>31388</th>\n",
              "      <td>0.0</td>\n",
              "      <td>44.760559</td>\n",
              "      <td>3.3331</td>\n",
              "    </tr>\n",
              "  </tbody>\n",
              "</table>\n",
              "<p>31388 rows × 3 columns</p>\n",
              "</div>"
            ],
            "text/plain": [
              "          Y          X      X2\n",
              "1       0.0   0.000000  0.0000\n",
              "2       0.0   0.000000  0.0000\n",
              "3       0.0   0.000000  0.0000\n",
              "4       0.0   0.000000  0.0000\n",
              "5       0.0   0.000000  0.0000\n",
              "...     ...        ...     ...\n",
              "31384  37.0  37.079164  0.9952\n",
              "31385  42.0  37.478177  0.9693\n",
              "31386  42.0  40.703877  2.4515\n",
              "31387  44.0  42.606629  2.8763\n",
              "31388   0.0  44.760559  3.3331\n",
              "\n",
              "[31388 rows x 3 columns]"
            ]
          },
          "metadata": {
            "tags": []
          },
          "execution_count": 22
        }
      ]
    },
    {
      "cell_type": "code",
      "metadata": {
        "id": "-x8UpWXDpgmn",
        "colab_type": "code",
        "colab": {}
      },
      "source": [
        "confirmedPred=ts_c\n",
        "confirmedPred=confirmedPred.stack().reset_index(name='confirmed')\n",
        "confirmedPred.columns=['date', 'region','confirmed']\n",
        "confirmedPred['date']=pd.to_datetime(confirmedPred['date'] ,errors ='coerce')\n",
        "confirmedPred=confirmedPred.sort_values(['region', 'date'])\n",
        "\n",
        "# Add 1 Future day for prediction\n",
        "confirmedPred=confirmedPred.reset_index(drop=True)\n",
        "for i in range(1,len(confirmedPred)+1):\n",
        "  if(confirmedPred.iloc[i,1] is not confirmedPred.iloc[i-1,1]):\n",
        "    confirmedPred.loc[len(confirmedPred)+1] = [confirmedPred.iloc[i-1,0]+ pd.DateOffset(1),confirmedPred.iloc[i-1,1], 0] \n",
        "confirmedPred=confirmedPred.sort_values(['region', 'date'])\n",
        "confirmedPred=confirmedPred.reset_index(drop=True)\n"
      ],
      "execution_count": 0,
      "outputs": []
    },
    {
      "cell_type": "code",
      "metadata": {
        "id": "JKQVvoXXpkhc",
        "colab_type": "code",
        "outputId": "ee85af06-50d2-4358-a604-00c182d2a3a2",
        "colab": {
          "base_uri": "https://localhost:8080/",
          "height": 609
        }
      },
      "source": [
        "confirmedPred['1_day_change']=confirmedPred['3_day_change']=confirmedPred['7_day_change']=confirmedPred['1_day_change_rate']=confirmedPred['3_day_change_rate']=confirmedPred['7_day_change_rate']=confirmedPred['last_day']=0\n",
        "for i in range(1,len(confirmedPred)):\n",
        "  if(confirmedPred.iloc[i,1] is confirmedPred.iloc[i-2,1]):\n",
        "    confirmedPred.iloc[i,3]=confirmedPred.iloc[i-1,2]-confirmedPred.iloc[i-2,2]\n",
        "    confirmedPred.iloc[i,6]=(confirmedPred.iloc[i-1,2]/confirmedPred.iloc[i-2,2]-1)*100\n",
        "    confirmedPred.iloc[i,9]=confirmedPred.iloc[i-1,2]\n",
        "  if(confirmedPred.iloc[i,1] is confirmedPred.iloc[i-4,1]):\n",
        "    confirmedPred.iloc[i,4]=confirmedPred.iloc[i-1,2]-confirmedPred.iloc[i-4,2]\n",
        "    confirmedPred.iloc[i,7]=(confirmedPred.iloc[i-1,2]/confirmedPred.iloc[i-4,2]-1)*100\n",
        "  if(confirmedPred.iloc[i,1] is confirmedPred.iloc[i-8,1]):\n",
        "    confirmedPred.iloc[i,5]=confirmedPred.iloc[i-1,2]-confirmedPred.iloc[i-8,2]\n",
        "    confirmedPred.iloc[i,8]=(confirmedPred.iloc[i-1,2]/confirmedPred.iloc[i-8,2]-1)*100\n",
        "confirmedPred=confirmedPred.fillna(0)\n",
        "p=p.reset_index(drop=True)\n",
        "confirmedPred.index=p.index\n",
        "confirmedPred['X'] = p['X']  \n",
        "confirmedPred=confirmedPred.rename(columns = {'X':'kalman_prediction'}) \n",
        "confirmedPred=confirmedPred.replace([np.inf, -np.inf], 0)\n",
        "confirmedPred['kalman_prediction']=round(confirmedPred['kalman_prediction'])\n",
        "confirmedPred"
      ],
      "execution_count": 0,
      "outputs": [
        {
          "output_type": "execute_result",
          "data": {
            "text/html": [
              "<div>\n",
              "<style scoped>\n",
              "    .dataframe tbody tr th:only-of-type {\n",
              "        vertical-align: middle;\n",
              "    }\n",
              "\n",
              "    .dataframe tbody tr th {\n",
              "        vertical-align: top;\n",
              "    }\n",
              "\n",
              "    .dataframe thead th {\n",
              "        text-align: right;\n",
              "    }\n",
              "</style>\n",
              "<table border=\"1\" class=\"dataframe\">\n",
              "  <thead>\n",
              "    <tr style=\"text-align: right;\">\n",
              "      <th></th>\n",
              "      <th>date</th>\n",
              "      <th>region</th>\n",
              "      <th>confirmed</th>\n",
              "      <th>1_day_change</th>\n",
              "      <th>3_day_change</th>\n",
              "      <th>7_day_change</th>\n",
              "      <th>1_day_change_rate</th>\n",
              "      <th>3_day_change_rate</th>\n",
              "      <th>7_day_change_rate</th>\n",
              "      <th>last_day</th>\n",
              "      <th>kalman_prediction</th>\n",
              "    </tr>\n",
              "  </thead>\n",
              "  <tbody>\n",
              "    <tr>\n",
              "      <th>0</th>\n",
              "      <td>2020-01-22</td>\n",
              "      <td>Afghanistan_nan</td>\n",
              "      <td>0</td>\n",
              "      <td>0</td>\n",
              "      <td>0</td>\n",
              "      <td>0</td>\n",
              "      <td>0.000000</td>\n",
              "      <td>0.000000</td>\n",
              "      <td>0.000000</td>\n",
              "      <td>0</td>\n",
              "      <td>0.0</td>\n",
              "    </tr>\n",
              "    <tr>\n",
              "      <th>1</th>\n",
              "      <td>2020-01-23</td>\n",
              "      <td>Afghanistan_nan</td>\n",
              "      <td>0</td>\n",
              "      <td>0</td>\n",
              "      <td>0</td>\n",
              "      <td>0</td>\n",
              "      <td>0.000000</td>\n",
              "      <td>0.000000</td>\n",
              "      <td>0.000000</td>\n",
              "      <td>0</td>\n",
              "      <td>0.0</td>\n",
              "    </tr>\n",
              "    <tr>\n",
              "      <th>2</th>\n",
              "      <td>2020-01-24</td>\n",
              "      <td>Afghanistan_nan</td>\n",
              "      <td>0</td>\n",
              "      <td>0</td>\n",
              "      <td>0</td>\n",
              "      <td>0</td>\n",
              "      <td>0.000000</td>\n",
              "      <td>0.000000</td>\n",
              "      <td>0.000000</td>\n",
              "      <td>0</td>\n",
              "      <td>0.0</td>\n",
              "    </tr>\n",
              "    <tr>\n",
              "      <th>3</th>\n",
              "      <td>2020-01-25</td>\n",
              "      <td>Afghanistan_nan</td>\n",
              "      <td>0</td>\n",
              "      <td>0</td>\n",
              "      <td>0</td>\n",
              "      <td>0</td>\n",
              "      <td>0.000000</td>\n",
              "      <td>0.000000</td>\n",
              "      <td>0.000000</td>\n",
              "      <td>0</td>\n",
              "      <td>0.0</td>\n",
              "    </tr>\n",
              "    <tr>\n",
              "      <th>4</th>\n",
              "      <td>2020-01-26</td>\n",
              "      <td>Afghanistan_nan</td>\n",
              "      <td>0</td>\n",
              "      <td>0</td>\n",
              "      <td>0</td>\n",
              "      <td>0</td>\n",
              "      <td>0.000000</td>\n",
              "      <td>0.000000</td>\n",
              "      <td>0.000000</td>\n",
              "      <td>0</td>\n",
              "      <td>0.0</td>\n",
              "    </tr>\n",
              "    <tr>\n",
              "      <th>...</th>\n",
              "      <td>...</td>\n",
              "      <td>...</td>\n",
              "      <td>...</td>\n",
              "      <td>...</td>\n",
              "      <td>...</td>\n",
              "      <td>...</td>\n",
              "      <td>...</td>\n",
              "      <td>...</td>\n",
              "      <td>...</td>\n",
              "      <td>...</td>\n",
              "      <td>...</td>\n",
              "    </tr>\n",
              "    <tr>\n",
              "      <th>31383</th>\n",
              "      <td>2020-05-14</td>\n",
              "      <td>Zimbabwe_nan</td>\n",
              "      <td>37</td>\n",
              "      <td>1</td>\n",
              "      <td>1</td>\n",
              "      <td>3</td>\n",
              "      <td>2.777778</td>\n",
              "      <td>2.777778</td>\n",
              "      <td>8.823529</td>\n",
              "      <td>37</td>\n",
              "      <td>37.0</td>\n",
              "    </tr>\n",
              "    <tr>\n",
              "      <th>31384</th>\n",
              "      <td>2020-05-15</td>\n",
              "      <td>Zimbabwe_nan</td>\n",
              "      <td>42</td>\n",
              "      <td>0</td>\n",
              "      <td>1</td>\n",
              "      <td>3</td>\n",
              "      <td>0.000000</td>\n",
              "      <td>2.777778</td>\n",
              "      <td>8.823529</td>\n",
              "      <td>37</td>\n",
              "      <td>37.0</td>\n",
              "    </tr>\n",
              "    <tr>\n",
              "      <th>31385</th>\n",
              "      <td>2020-05-16</td>\n",
              "      <td>Zimbabwe_nan</td>\n",
              "      <td>42</td>\n",
              "      <td>5</td>\n",
              "      <td>6</td>\n",
              "      <td>8</td>\n",
              "      <td>13.513514</td>\n",
              "      <td>16.666667</td>\n",
              "      <td>23.529412</td>\n",
              "      <td>42</td>\n",
              "      <td>41.0</td>\n",
              "    </tr>\n",
              "    <tr>\n",
              "      <th>31386</th>\n",
              "      <td>2020-05-17</td>\n",
              "      <td>Zimbabwe_nan</td>\n",
              "      <td>44</td>\n",
              "      <td>0</td>\n",
              "      <td>5</td>\n",
              "      <td>7</td>\n",
              "      <td>0.000000</td>\n",
              "      <td>13.513514</td>\n",
              "      <td>20.000000</td>\n",
              "      <td>42</td>\n",
              "      <td>43.0</td>\n",
              "    </tr>\n",
              "    <tr>\n",
              "      <th>31387</th>\n",
              "      <td>2020-05-18</td>\n",
              "      <td>Zimbabwe_nan</td>\n",
              "      <td>0</td>\n",
              "      <td>2</td>\n",
              "      <td>7</td>\n",
              "      <td>8</td>\n",
              "      <td>4.761905</td>\n",
              "      <td>18.918919</td>\n",
              "      <td>22.222222</td>\n",
              "      <td>44</td>\n",
              "      <td>45.0</td>\n",
              "    </tr>\n",
              "  </tbody>\n",
              "</table>\n",
              "<p>31388 rows × 11 columns</p>\n",
              "</div>"
            ],
            "text/plain": [
              "            date           region  ...  last_day  kalman_prediction\n",
              "0     2020-01-22  Afghanistan_nan  ...         0                0.0\n",
              "1     2020-01-23  Afghanistan_nan  ...         0                0.0\n",
              "2     2020-01-24  Afghanistan_nan  ...         0                0.0\n",
              "3     2020-01-25  Afghanistan_nan  ...         0                0.0\n",
              "4     2020-01-26  Afghanistan_nan  ...         0                0.0\n",
              "...          ...              ...  ...       ...                ...\n",
              "31383 2020-05-14     Zimbabwe_nan  ...        37               37.0\n",
              "31384 2020-05-15     Zimbabwe_nan  ...        37               37.0\n",
              "31385 2020-05-16     Zimbabwe_nan  ...        42               41.0\n",
              "31386 2020-05-17     Zimbabwe_nan  ...        42               43.0\n",
              "31387 2020-05-18     Zimbabwe_nan  ...        44               45.0\n",
              "\n",
              "[31388 rows x 11 columns]"
            ]
          },
          "metadata": {
            "tags": []
          },
          "execution_count": 24
        }
      ]
    },
    {
      "cell_type": "code",
      "metadata": {
        "id": "luFrK3aXqlzO",
        "colab_type": "code",
        "outputId": "ec45ba92-7f32-43dd-e3d4-348629db4ff0",
        "colab": {
          "base_uri": "https://localhost:8080/",
          "height": 355
        }
      },
      "source": [
        "prediction=confirmedPred[confirmedPred['region']==region][['date','region','confirmed','kalman_prediction']]\n",
        "prediction.tail(10)"
      ],
      "execution_count": 0,
      "outputs": [
        {
          "output_type": "execute_result",
          "data": {
            "text/html": [
              "<div>\n",
              "<style scoped>\n",
              "    .dataframe tbody tr th:only-of-type {\n",
              "        vertical-align: middle;\n",
              "    }\n",
              "\n",
              "    .dataframe tbody tr th {\n",
              "        vertical-align: top;\n",
              "    }\n",
              "\n",
              "    .dataframe thead th {\n",
              "        text-align: right;\n",
              "    }\n",
              "</style>\n",
              "<table border=\"1\" class=\"dataframe\">\n",
              "  <thead>\n",
              "    <tr style=\"text-align: right;\">\n",
              "      <th></th>\n",
              "      <th>date</th>\n",
              "      <th>region</th>\n",
              "      <th>confirmed</th>\n",
              "      <th>kalman_prediction</th>\n",
              "    </tr>\n",
              "  </thead>\n",
              "  <tbody>\n",
              "    <tr>\n",
              "      <th>16982</th>\n",
              "      <td>2020-05-09</td>\n",
              "      <td>India_nan</td>\n",
              "      <td>62808</td>\n",
              "      <td>62645.0</td>\n",
              "    </tr>\n",
              "    <tr>\n",
              "      <th>16983</th>\n",
              "      <td>2020-05-10</td>\n",
              "      <td>India_nan</td>\n",
              "      <td>67161</td>\n",
              "      <td>66090.0</td>\n",
              "    </tr>\n",
              "    <tr>\n",
              "      <th>16984</th>\n",
              "      <td>2020-05-11</td>\n",
              "      <td>India_nan</td>\n",
              "      <td>70768</td>\n",
              "      <td>70120.0</td>\n",
              "    </tr>\n",
              "    <tr>\n",
              "      <th>16985</th>\n",
              "      <td>2020-05-12</td>\n",
              "      <td>India_nan</td>\n",
              "      <td>74292</td>\n",
              "      <td>74046.0</td>\n",
              "    </tr>\n",
              "    <tr>\n",
              "      <th>16986</th>\n",
              "      <td>2020-05-13</td>\n",
              "      <td>India_nan</td>\n",
              "      <td>78055</td>\n",
              "      <td>77820.0</td>\n",
              "    </tr>\n",
              "    <tr>\n",
              "      <th>16987</th>\n",
              "      <td>2020-05-14</td>\n",
              "      <td>India_nan</td>\n",
              "      <td>81997</td>\n",
              "      <td>81624.0</td>\n",
              "    </tr>\n",
              "    <tr>\n",
              "      <th>16988</th>\n",
              "      <td>2020-05-15</td>\n",
              "      <td>India_nan</td>\n",
              "      <td>85784</td>\n",
              "      <td>85547.0</td>\n",
              "    </tr>\n",
              "    <tr>\n",
              "      <th>16989</th>\n",
              "      <td>2020-05-16</td>\n",
              "      <td>India_nan</td>\n",
              "      <td>90648</td>\n",
              "      <td>89442.0</td>\n",
              "    </tr>\n",
              "    <tr>\n",
              "      <th>16990</th>\n",
              "      <td>2020-05-17</td>\n",
              "      <td>India_nan</td>\n",
              "      <td>95698</td>\n",
              "      <td>93969.0</td>\n",
              "    </tr>\n",
              "    <tr>\n",
              "      <th>16991</th>\n",
              "      <td>2020-05-18</td>\n",
              "      <td>India_nan</td>\n",
              "      <td>0</td>\n",
              "      <td>98997.0</td>\n",
              "    </tr>\n",
              "  </tbody>\n",
              "</table>\n",
              "</div>"
            ],
            "text/plain": [
              "            date     region  confirmed  kalman_prediction\n",
              "16982 2020-05-09  India_nan      62808            62645.0\n",
              "16983 2020-05-10  India_nan      67161            66090.0\n",
              "16984 2020-05-11  India_nan      70768            70120.0\n",
              "16985 2020-05-12  India_nan      74292            74046.0\n",
              "16986 2020-05-13  India_nan      78055            77820.0\n",
              "16987 2020-05-14  India_nan      81997            81624.0\n",
              "16988 2020-05-15  India_nan      85784            85547.0\n",
              "16989 2020-05-16  India_nan      90648            89442.0\n",
              "16990 2020-05-17  India_nan      95698            93969.0\n",
              "16991 2020-05-18  India_nan          0            98997.0"
            ]
          },
          "metadata": {
            "tags": []
          },
          "execution_count": 32
        }
      ]
    },
    {
      "cell_type": "code",
      "metadata": {
        "id": "gB1Q6J0Oqs3X",
        "colab_type": "code",
        "colab": {}
      },
      "source": [
        "prediction.iloc[len(prediction)-1,2]=None\n",
        "prediction=prediction.set_index(['date'])"
      ],
      "execution_count": 0,
      "outputs": []
    },
    {
      "cell_type": "code",
      "metadata": {
        "id": "gouPvbyeqzCA",
        "colab_type": "code",
        "outputId": "8177486a-8a8f-45f9-c3ff-1b693668d19c",
        "colab": {
          "base_uri": "https://localhost:8080/",
          "height": 439
        }
      },
      "source": [
        "prediction.iloc[:,1:3].plot(marker='o',figsize=(16,6)).set_title('Kalman Prediction for 1 day - India'.format(prediction.iloc[0,0]),fontdict={'fontsize': 22})"
      ],
      "execution_count": 0,
      "outputs": [
        {
          "output_type": "execute_result",
          "data": {
            "text/plain": [
              "Text(0.5, 1.0, 'Kalman Prediction for 1 day - India')"
            ]
          },
          "metadata": {
            "tags": []
          },
          "execution_count": 34
        },
        {
          "output_type": "display_data",
          "data": {
            "image/png": "[encoded data removed]",
            "text/plain": [
              "<Figure size 1152x432 with 1 Axes>"
            ]
          },
          "metadata": {
            "tags": [],
            "needs_background": "light"
          }
        }
      ]
    },
    {
      "cell_type": "code",
      "metadata": {
        "id": "cWAHYn7GXvAM",
        "colab_type": "code",
        "outputId": "a0856d0f-aef5-4d97-d26e-0b056d043e15",
        "colab": {
          "base_uri": "https://localhost:8080/",
          "height": 736
        }
      },
      "source": [
        "prediction['DailyBedCount'] = prediction['confirmed'] - prediction['confirmed'].shift(1)\n",
        "prediction.iloc[:,3].plot(marker='o',figsize=(10,5)).set_title('Daily Bed Count - India'.format(prediction.iloc[0,0]),fontdict={'fontsize': 22})\n",
        "prediction.tail(10)"
      ],
      "execution_count": 0,
      "outputs": [
        {
          "output_type": "execute_result",
          "data": {
            "text/html": [
              "<div>\n",
              "<style scoped>\n",
              "    .dataframe tbody tr th:only-of-type {\n",
              "        vertical-align: middle;\n",
              "    }\n",
              "\n",
              "    .dataframe tbody tr th {\n",
              "        vertical-align: top;\n",
              "    }\n",
              "\n",
              "    .dataframe thead th {\n",
              "        text-align: right;\n",
              "    }\n",
              "</style>\n",
              "<table border=\"1\" class=\"dataframe\">\n",
              "  <thead>\n",
              "    <tr style=\"text-align: right;\">\n",
              "      <th></th>\n",
              "      <th>region</th>\n",
              "      <th>confirmed</th>\n",
              "      <th>kalman_prediction</th>\n",
              "      <th>DailyBedCount</th>\n",
              "    </tr>\n",
              "    <tr>\n",
              "      <th>date</th>\n",
              "      <th></th>\n",
              "      <th></th>\n",
              "      <th></th>\n",
              "      <th></th>\n",
              "    </tr>\n",
              "  </thead>\n",
              "  <tbody>\n",
              "    <tr>\n",
              "      <th>2020-05-09</th>\n",
              "      <td>India_nan</td>\n",
              "      <td>62808.0</td>\n",
              "      <td>62645.0</td>\n",
              "      <td>3113.0</td>\n",
              "    </tr>\n",
              "    <tr>\n",
              "      <th>2020-05-10</th>\n",
              "      <td>India_nan</td>\n",
              "      <td>67161.0</td>\n",
              "      <td>66090.0</td>\n",
              "      <td>4353.0</td>\n",
              "    </tr>\n",
              "    <tr>\n",
              "      <th>2020-05-11</th>\n",
              "      <td>India_nan</td>\n",
              "      <td>70768.0</td>\n",
              "      <td>70120.0</td>\n",
              "      <td>3607.0</td>\n",
              "    </tr>\n",
              "    <tr>\n",
              "      <th>2020-05-12</th>\n",
              "      <td>India_nan</td>\n",
              "      <td>74292.0</td>\n",
              "      <td>74046.0</td>\n",
              "      <td>3524.0</td>\n",
              "    </tr>\n",
              "    <tr>\n",
              "      <th>2020-05-13</th>\n",
              "      <td>India_nan</td>\n",
              "      <td>78055.0</td>\n",
              "      <td>77820.0</td>\n",
              "      <td>3763.0</td>\n",
              "    </tr>\n",
              "    <tr>\n",
              "      <th>2020-05-14</th>\n",
              "      <td>India_nan</td>\n",
              "      <td>81997.0</td>\n",
              "      <td>81624.0</td>\n",
              "      <td>3942.0</td>\n",
              "    </tr>\n",
              "    <tr>\n",
              "      <th>2020-05-15</th>\n",
              "      <td>India_nan</td>\n",
              "      <td>85784.0</td>\n",
              "      <td>85547.0</td>\n",
              "      <td>3787.0</td>\n",
              "    </tr>\n",
              "    <tr>\n",
              "      <th>2020-05-16</th>\n",
              "      <td>India_nan</td>\n",
              "      <td>90648.0</td>\n",
              "      <td>89442.0</td>\n",
              "      <td>4864.0</td>\n",
              "    </tr>\n",
              "    <tr>\n",
              "      <th>2020-05-17</th>\n",
              "      <td>India_nan</td>\n",
              "      <td>95698.0</td>\n",
              "      <td>93969.0</td>\n",
              "      <td>5050.0</td>\n",
              "    </tr>\n",
              "    <tr>\n",
              "      <th>2020-05-18</th>\n",
              "      <td>India_nan</td>\n",
              "      <td>NaN</td>\n",
              "      <td>98997.0</td>\n",
              "      <td>NaN</td>\n",
              "    </tr>\n",
              "  </tbody>\n",
              "</table>\n",
              "</div>"
            ],
            "text/plain": [
              "               region  confirmed  kalman_prediction  DailyBedCount\n",
              "date                                                              \n",
              "2020-05-09  India_nan    62808.0            62645.0         3113.0\n",
              "2020-05-10  India_nan    67161.0            66090.0         4353.0\n",
              "2020-05-11  India_nan    70768.0            70120.0         3607.0\n",
              "2020-05-12  India_nan    74292.0            74046.0         3524.0\n",
              "2020-05-13  India_nan    78055.0            77820.0         3763.0\n",
              "2020-05-14  India_nan    81997.0            81624.0         3942.0\n",
              "2020-05-15  India_nan    85784.0            85547.0         3787.0\n",
              "2020-05-16  India_nan    90648.0            89442.0         4864.0\n",
              "2020-05-17  India_nan    95698.0            93969.0         5050.0\n",
              "2020-05-18  India_nan        NaN            98997.0            NaN"
            ]
          },
          "metadata": {
            "tags": []
          },
          "execution_count": 35
        },
        {
          "output_type": "display_data",
          "data": {
            "image/png": "[encoded data removed]",
            "text/plain": [
              "<Figure size 720x360 with 1 Axes>"
            ]
          },
          "metadata": {
            "tags": [],
            "needs_background": "light"
          }
        }
      ]
    },
    {
      "cell_type": "code",
      "metadata": {
        "id": "Ya36HoXXYNIK",
        "colab_type": "code",
        "outputId": "fb37bc9f-df3c-4b91-9e28-e33ad4ab6043",
        "colab": {
          "base_uri": "https://localhost:8080/",
          "height": 446
        }
      },
      "source": [
        "prediction"
      ],
      "execution_count": 0,
      "outputs": [
        {
          "output_type": "execute_result",
          "data": {
            "text/html": [
              "<div>\n",
              "<style scoped>\n",
              "    .dataframe tbody tr th:only-of-type {\n",
              "        vertical-align: middle;\n",
              "    }\n",
              "\n",
              "    .dataframe tbody tr th {\n",
              "        vertical-align: top;\n",
              "    }\n",
              "\n",
              "    .dataframe thead th {\n",
              "        text-align: right;\n",
              "    }\n",
              "</style>\n",
              "<table border=\"1\" class=\"dataframe\">\n",
              "  <thead>\n",
              "    <tr style=\"text-align: right;\">\n",
              "      <th></th>\n",
              "      <th>region</th>\n",
              "      <th>confirmed</th>\n",
              "      <th>kalman_prediction</th>\n",
              "      <th>DailyBedCount</th>\n",
              "    </tr>\n",
              "    <tr>\n",
              "      <th>date</th>\n",
              "      <th></th>\n",
              "      <th></th>\n",
              "      <th></th>\n",
              "      <th></th>\n",
              "    </tr>\n",
              "  </thead>\n",
              "  <tbody>\n",
              "    <tr>\n",
              "      <th>2020-01-22</th>\n",
              "      <td>India_nan</td>\n",
              "      <td>0.0</td>\n",
              "      <td>0.0</td>\n",
              "      <td>NaN</td>\n",
              "    </tr>\n",
              "    <tr>\n",
              "      <th>2020-01-23</th>\n",
              "      <td>India_nan</td>\n",
              "      <td>0.0</td>\n",
              "      <td>0.0</td>\n",
              "      <td>0.0</td>\n",
              "    </tr>\n",
              "    <tr>\n",
              "      <th>2020-01-24</th>\n",
              "      <td>India_nan</td>\n",
              "      <td>0.0</td>\n",
              "      <td>0.0</td>\n",
              "      <td>0.0</td>\n",
              "    </tr>\n",
              "    <tr>\n",
              "      <th>2020-01-25</th>\n",
              "      <td>India_nan</td>\n",
              "      <td>0.0</td>\n",
              "      <td>0.0</td>\n",
              "      <td>0.0</td>\n",
              "    </tr>\n",
              "    <tr>\n",
              "      <th>2020-01-26</th>\n",
              "      <td>India_nan</td>\n",
              "      <td>0.0</td>\n",
              "      <td>0.0</td>\n",
              "      <td>0.0</td>\n",
              "    </tr>\n",
              "    <tr>\n",
              "      <th>...</th>\n",
              "      <td>...</td>\n",
              "      <td>...</td>\n",
              "      <td>...</td>\n",
              "      <td>...</td>\n",
              "    </tr>\n",
              "    <tr>\n",
              "      <th>2020-05-14</th>\n",
              "      <td>India_nan</td>\n",
              "      <td>81997.0</td>\n",
              "      <td>81624.0</td>\n",
              "      <td>3942.0</td>\n",
              "    </tr>\n",
              "    <tr>\n",
              "      <th>2020-05-15</th>\n",
              "      <td>India_nan</td>\n",
              "      <td>85784.0</td>\n",
              "      <td>85547.0</td>\n",
              "      <td>3787.0</td>\n",
              "    </tr>\n",
              "    <tr>\n",
              "      <th>2020-05-16</th>\n",
              "      <td>India_nan</td>\n",
              "      <td>90648.0</td>\n",
              "      <td>89442.0</td>\n",
              "      <td>4864.0</td>\n",
              "    </tr>\n",
              "    <tr>\n",
              "      <th>2020-05-17</th>\n",
              "      <td>India_nan</td>\n",
              "      <td>95698.0</td>\n",
              "      <td>93969.0</td>\n",
              "      <td>5050.0</td>\n",
              "    </tr>\n",
              "    <tr>\n",
              "      <th>2020-05-18</th>\n",
              "      <td>India_nan</td>\n",
              "      <td>NaN</td>\n",
              "      <td>98997.0</td>\n",
              "      <td>NaN</td>\n",
              "    </tr>\n",
              "  </tbody>\n",
              "</table>\n",
              "<p>118 rows × 4 columns</p>\n",
              "</div>"
            ],
            "text/plain": [
              "               region  confirmed  kalman_prediction  DailyBedCount\n",
              "date                                                              \n",
              "2020-01-22  India_nan        0.0                0.0            NaN\n",
              "2020-01-23  India_nan        0.0                0.0            0.0\n",
              "2020-01-24  India_nan        0.0                0.0            0.0\n",
              "2020-01-25  India_nan        0.0                0.0            0.0\n",
              "2020-01-26  India_nan        0.0                0.0            0.0\n",
              "...               ...        ...                ...            ...\n",
              "2020-05-14  India_nan    81997.0            81624.0         3942.0\n",
              "2020-05-15  India_nan    85784.0            85547.0         3787.0\n",
              "2020-05-16  India_nan    90648.0            89442.0         4864.0\n",
              "2020-05-17  India_nan    95698.0            93969.0         5050.0\n",
              "2020-05-18  India_nan        NaN            98997.0            NaN\n",
              "\n",
              "[118 rows x 4 columns]"
            ]
          },
          "metadata": {
            "tags": []
          },
          "execution_count": 36
        }
      ]
    },
    {
      "cell_type": "code",
      "metadata": {
        "id": "XwJ2NR17rJOy",
        "colab_type": "code",
        "outputId": "29aa2045-624b-4915-f472-31a3a9625c4c",
        "colab": {
          "base_uri": "https://localhost:8080/",
          "height": 1000
        }
      },
      "source": [
        "%%R\n",
        "install.packages('reshape')"
      ],
      "execution_count": 0,
      "outputs": [
        {
          "output_type": "stream",
          "text": [
            "R[write to console]: Installing package into ‘/usr/local/lib/R/site-library’\n",
            "(as ‘lib’ is unspecified)\n",
            "\n",
            "R[write to console]: trying URL 'https://cran.rstudio.com/src/contrib/reshape_0.8.8.tar.gz'\n",
            "\n",
            "R[write to console]: Content type 'application/x-gzip'\n",
            "R[write to console]:  length 42558 bytes (41 KB)\n",
            "\n",
            "R[write to console]: =\n",
            "R[write to console]: =\n",
            "R[write to console]: =\n",
            "R[write to console]: =\n",
            "R[write to console]: =\n",
            "R[write to console]: =\n",
            "R[write to console]: =\n",
            "R[write to console]: =\n",
            "R[write to console]: =\n",
            "R[write to console]: =\n",
            "R[write to console]: =\n",
            "R[write to console]: =\n",
            "R[write to console]: =\n",
            "R[write to console]: =\n",
            "R[write to console]: =\n",
            "R[write to console]: =\n",
            "R[write to console]: =\n",
            "R[write to console]: =\n",
            "R[write to console]: =\n",
            "R[write to console]: =\n",
            "R[write to console]: =\n",
            "R[write to console]: =\n",
            "R[write to console]: =\n",
            "R[write to console]: =\n",
            "R[write to console]: =\n",
            "R[write to console]: =\n",
            "R[write to console]: =\n",
            "R[write to console]: =\n",
            "R[write to console]: =\n",
            "R[write to console]: =\n",
            "R[write to console]: =\n",
            "R[write to console]: =\n",
            "R[write to console]: =\n",
            "R[write to console]: =\n",
            "R[write to console]: =\n",
            "R[write to console]: =\n",
            "R[write to console]: =\n",
            "R[write to console]: =\n",
            "R[write to console]: =\n",
            "R[write to console]: =\n",
            "R[write to console]: =\n",
            "R[write to console]: =\n",
            "R[write to console]: =\n",
            "R[write to console]: =\n",
            "R[write to console]: =\n",
            "R[write to console]: =\n",
            "R[write to console]: =\n",
            "R[write to console]: =\n",
            "R[write to console]: =\n",
            "R[write to console]: =\n",
            "R[write to console]: \n",
            "\n",
            "R[write to console]: downloaded 41 KB\n",
            "\n",
            "\n",
            "R[write to console]: \n",
            "\n",
            "R[write to console]: \n",
            "R[write to console]: The downloaded source packages are in\n",
            "\t‘/tmp/RtmpcobIXT/downloaded_packages’\n",
            "R[write to console]: \n",
            "R[write to console]: \n",
            "\n"
          ],
          "name": "stderr"
        }
      ]
    },
    {
      "cell_type": "code",
      "metadata": {
        "id": "rFEHzTaxrk0K",
        "colab_type": "code",
        "outputId": "9170009c-5505-4143-b44a-ab6cf3645823",
        "colab": {
          "base_uri": "https://localhost:8080/",
          "height": 191
        }
      },
      "source": [
        "%%R\n",
        "require(pracma)\n",
        "require(Metrics)\n",
        "require(readr)\n",
        "library(reshape)\n",
        "all<- read_csv(confirmed_path_R)\n",
        "all$X1<-NULL\n",
        "for (i in 1:30) { # Set i days prediction\n",
        "  if( i>1) {all<-all_new}\n",
        "  date<-all[,1]\n",
        "  date[nrow(date) + 1,1] <-all[nrow(all),1]+1\n",
        "  pred_all<-NULL\n",
        "  for (n in 2:ncol(all)-1) {\n",
        "    Y<-ts(data = all[n+1], start = 1, end =nrow(all)+1)  \n",
        "    sig_w<-0.01\n",
        "    w<-sig_w*randn(1,100) # acceleration which denotes the fluctuation (Q/R) rnorm(100, mean = 0, sd = 1)\n",
        "    sig_v<-0.01\n",
        "    v<-sig_v*randn(1,100)  \n",
        "    t<-0.45\n",
        "    phi<-matrix(c(1,0,t,1),2,2)\n",
        "    gama<-matrix(c(0.5*t^2,t),2,1)\n",
        "    H<-matrix(c(1,0),1,2)\n",
        "    #Kalman\n",
        "    x0_0<-p0_0<-matrix(c(0,0),2,1)\n",
        "    p0_0<-matrix(c(1,0,0,1),2,2)\n",
        "    Q<-0.01\n",
        "    R<-0.01\n",
        "    X<-NULL\n",
        "    X2<-NULL\n",
        "    pred<-NULL\n",
        "    for (i in 0:nrow(all)) {\n",
        "      namp <-paste(\"p\", i+1,\"_\",i, sep = \"\")\n",
        "      assign(namp, phi%*%(get(paste(\"p\", i,\"_\",i, sep = \"\")))%*%t(phi)+gama%*%Q%*%t(gama))\n",
        "      namk <- paste(\"k\", i+1, sep = \"\")\n",
        "      assign(namk,get(paste(\"p\", i+1,\"_\",i, sep = \"\"))%*%t(H)%*%(1/(H%*%get(paste(\"p\", i+1,\"_\",i, sep = \"\"))%*%t(H)+R)))\n",
        "      namx <- paste(\"x\", i+1,\"_\",i, sep = \"\")\n",
        "      assign(namx,phi%*%get(paste(\"x\", i,\"_\",i, sep = \"\")))\n",
        "      namE <- paste(\"E\", i+1, sep = \"\")\n",
        "      assign(namE,Y[i+1]-H%*%get(paste(\"x\", i+1,\"_\",i, sep = \"\")))\n",
        "      namx2 <- paste(\"x\", i+1,\"_\",i+1, sep = \"\")\n",
        "      assign(namx2,get(paste(\"x\", i+1,\"_\",i, sep = \"\"))+get(paste(\"k\", i+1, sep = \"\"))%*%get(paste(\"E\", i+1, sep = \"\")))\n",
        "      namp2 <- paste(\"p\", i+1,\"_\",i+1, sep = \"\")\n",
        "      assign(namp2,(p0_0-get(paste(\"k\", i+1, sep = \"\"))%*%H)%*%get(paste(\"p\", i+1,\"_\",i, sep = \"\")))\n",
        "      X<-rbind(X,get(paste(\"x\", i+1,\"_\",i,sep = \"\"))[1])\n",
        "      X2<-rbind(X2,get(paste(\"x\", i+1,\"_\",i,sep = \"\"))[2])\n",
        "      if(i>2){\n",
        "        remove(list=(paste(\"p\", i-1,\"_\",i-2, sep = \"\")))\n",
        "        remove(list=(paste(\"k\", i-1, sep = \"\")))\n",
        "        remove(list=(paste(\"E\", i-1, sep = \"\")))\n",
        "        remove(list=(paste(\"p\", i-2,\"_\",i-2, sep = \"\")))\n",
        "        remove(list=(paste(\"x\", i-1,\"_\",i-2, sep = \"\")))\n",
        "        remove(list=(paste(\"x\", i-2,\"_\",i-2, sep = \"\")))}\n",
        "    } \n",
        "    pred<-NULL\n",
        "    pred<-cbind(Y,X,round(X2,4))\n",
        "    pred<-as.data.frame(pred)\n",
        "    pred$region<-colnames(all[,n+1])\n",
        "    pred$date<-date$date\n",
        "    pred$actual<-rbind(0,(cbind(pred[2:nrow(pred),1])/pred[1:nrow(pred)-1,1]-1)*100)\n",
        "    pred$predict<-rbind(0,(cbind(pred[2:nrow(pred),2])/pred[1:nrow(pred)-1,2]-1)*100)\n",
        "    pred$pred_rate<-(pred$X/pred$Y-1)*100\n",
        "    pred$X2_change<-rbind(0,(cbind(pred[2:nrow(pred),3]-pred[1:nrow(pred)-1,3])))\n",
        "    pred_all<-rbind(pred_all,pred)\n",
        "  }\n",
        "  pred_all<-cbind(pred_all[,4:5],pred_all[,1:3])\n",
        "  names(pred_all)[5]<-\"X2\"\n",
        "  pred_all<-pred_all[,1:5]\n",
        "       \n",
        "pred_all_today=pred_all[with( pred_all, order(region, date)), ]\n",
        "all_new=all\n",
        "#all_new[nrow(all_new),1]<-all_new[nrow(all),1]+1\n",
        "temp<-with(pred_all_today, pred_all_today[date == all[nrow(all),1]+1, ])\n",
        "temp<-cbind(temp[,1:2],temp[,4])\n",
        "temp2<-reshape(temp, direction = \"wide\", idvar = \"date\", timevar = \"region\")\n",
        "rand_num<-runif(ncol(temp2)-1, 0.9, 1.05)\n",
        "temp2[,2:ncol(temp2)]<-temp2[,2:ncol(temp2)]*rand_num\n",
        "colnames(temp2)=colnames(all_new)\n",
        "all_new<-rbind(all_new,temp2)\n",
        "all_new[,2:ncol(all_new)]<-round(all_new[,2:ncol(all_new)])\n",
        "for (i in 2:ncol(all_new)) {\n",
        "  all_new[nrow(all_new),i]=max(all_new[nrow(all_new)-1,i],all_new[nrow(all_new),i])}\n",
        "}"
      ],
      "execution_count": 0,
      "outputs": [
        {
          "output_type": "stream",
          "text": [
            "R[write to console]: Loading required package: Metrics\n",
            "\n",
            "R[write to console]: Parsed with column specification:\n",
            "cols(\n",
            "  .default = col_double(),\n",
            "  date = col_date(format = \"\")\n",
            ")\n",
            "\n",
            "R[write to console]: See spec(...) for full column specifications.\n",
            "\n"
          ],
          "name": "stderr"
        }
      ]
    },
    {
      "cell_type": "code",
      "metadata": {
        "id": "GuwK_KStttlg",
        "colab_type": "code",
        "colab": {}
      },
      "source": [
        "all_new=%R all_new"
      ],
      "execution_count": 0,
      "outputs": []
    },
    {
      "cell_type": "code",
      "metadata": {
        "id": "UZYRp7Ywt567",
        "colab_type": "code",
        "colab": {}
      },
      "source": [
        "all_new['date']=pd.to_datetime(all_new['date'],unit='d')"
      ],
      "execution_count": 0,
      "outputs": []
    },
    {
      "cell_type": "markdown",
      "metadata": {
        "id": "9WzRGf7RhLoF",
        "colab_type": "text"
      },
      "source": [
        ""
      ]
    },
    {
      "cell_type": "code",
      "metadata": {
        "id": "Bi16zxPtun-e",
        "colab_type": "code",
        "colab": {}
      },
      "source": [
        "region = ['date', \"India_nan\"]\n",
        "p_kalman=all_new[region]\n",
        "#p=all_new\n",
        "#p.iloc[len(p)-1,2]=None\n",
        "p_kalman=p_kalman.set_index(['date'])\n",
        "p_kalman = p_kalman.rename(columns = {'India_nan':'Predicted Cases'})"
      ],
      "execution_count": 0,
      "outputs": []
    },
    {
      "cell_type": "code",
      "metadata": {
        "id": "_Z7WUf5nkoyo",
        "colab_type": "code",
        "outputId": "28a8de5d-5df6-47e7-df0b-2503e3443468",
        "colab": {
          "base_uri": "https://localhost:8080/",
          "height": 381
        }
      },
      "source": [
        "p_kalman['PredictedDailyBedCount'] = p_kalman['Predicted Cases'] - p_kalman['Predicted Cases'].shift(1)\n",
        "p_kalman.tail(10)\n",
        "p_kalman.iloc[:,1:3].plot(marker='o',figsize=(20,5)).set_title('Predicted Daily Bed Count - India'.format(prediction.iloc[0,0]),fontdict={'fontsize': 22})"
      ],
      "execution_count": 0,
      "outputs": [
        {
          "output_type": "execute_result",
          "data": {
            "text/plain": [
              "Text(0.5, 1.0, 'Predicted Daily Bed Count - India')"
            ]
          },
          "metadata": {
            "tags": []
          },
          "execution_count": 43
        },
        {
          "output_type": "display_data",
          "data": {
            "image/png": "[encoded data removed]",
            "text/plain": [
              "<Figure size 1440x360 with 1 Axes>"
            ]
          },
          "metadata": {
            "tags": [],
            "needs_background": "light"
          }
        }
      ]
    },
    {
      "cell_type": "code",
      "metadata": {
        "id": "vVeVdDFumWTU",
        "colab_type": "code",
        "outputId": "4b001434-e7dc-444b-d66c-a6614f384273",
        "colab": {
          "base_uri": "https://localhost:8080/",
          "height": 385
        }
      },
      "source": [
        "p_kalman.iloc[:,0].plot(marker='o',figsize=(15,5)).set_title('Predicted Cases - India'.format(prediction.iloc[0,0]),fontdict={'fontsize': 22})"
      ],
      "execution_count": 0,
      "outputs": [
        {
          "output_type": "execute_result",
          "data": {
            "text/plain": [
              "Text(0.5, 1.0, 'Predicted Cases - India')"
            ]
          },
          "metadata": {
            "tags": []
          },
          "execution_count": 44
        },
        {
          "output_type": "display_data",
          "data": {
            "image/png": "[encoded data removed]",
            "text/plain": [
              "<Figure size 1080x360 with 1 Axes>"
            ]
          },
          "metadata": {
            "tags": [],
            "needs_background": "light"
          }
        }
      ]
    },
    {
      "cell_type": "code",
      "metadata": {
        "id": "YJFGKsFflTKN",
        "colab_type": "code",
        "outputId": "03452d63-84f9-4554-f20e-70acbd9e991c",
        "colab": {
          "base_uri": "https://localhost:8080/",
          "height": 999
        }
      },
      "source": [
        "p_kalman.tail(30)"
      ],
      "execution_count": 0,
      "outputs": [
        {
          "output_type": "execute_result",
          "data": {
            "text/html": [
              "<div>\n",
              "<style scoped>\n",
              "    .dataframe tbody tr th:only-of-type {\n",
              "        vertical-align: middle;\n",
              "    }\n",
              "\n",
              "    .dataframe tbody tr th {\n",
              "        vertical-align: top;\n",
              "    }\n",
              "\n",
              "    .dataframe thead th {\n",
              "        text-align: right;\n",
              "    }\n",
              "</style>\n",
              "<table border=\"1\" class=\"dataframe\">\n",
              "  <thead>\n",
              "    <tr style=\"text-align: right;\">\n",
              "      <th></th>\n",
              "      <th>Predicted Cases</th>\n",
              "      <th>PredictedDailyBedCount</th>\n",
              "    </tr>\n",
              "    <tr>\n",
              "      <th>date</th>\n",
              "      <th></th>\n",
              "      <th></th>\n",
              "    </tr>\n",
              "  </thead>\n",
              "  <tbody>\n",
              "    <tr>\n",
              "      <th>2020-05-18</th>\n",
              "      <td>98720.0</td>\n",
              "      <td>3022.0</td>\n",
              "    </tr>\n",
              "    <tr>\n",
              "      <th>2020-05-19</th>\n",
              "      <td>105468.0</td>\n",
              "      <td>6748.0</td>\n",
              "    </tr>\n",
              "    <tr>\n",
              "      <th>2020-05-20</th>\n",
              "      <td>105468.0</td>\n",
              "      <td>0.0</td>\n",
              "    </tr>\n",
              "    <tr>\n",
              "      <th>2020-05-21</th>\n",
              "      <td>105468.0</td>\n",
              "      <td>0.0</td>\n",
              "    </tr>\n",
              "    <tr>\n",
              "      <th>2020-05-22</th>\n",
              "      <td>107384.0</td>\n",
              "      <td>1916.0</td>\n",
              "    </tr>\n",
              "    <tr>\n",
              "      <th>2020-05-23</th>\n",
              "      <td>110062.0</td>\n",
              "      <td>2678.0</td>\n",
              "    </tr>\n",
              "    <tr>\n",
              "      <th>2020-05-24</th>\n",
              "      <td>114461.0</td>\n",
              "      <td>4399.0</td>\n",
              "    </tr>\n",
              "    <tr>\n",
              "      <th>2020-05-25</th>\n",
              "      <td>114461.0</td>\n",
              "      <td>0.0</td>\n",
              "    </tr>\n",
              "    <tr>\n",
              "      <th>2020-05-26</th>\n",
              "      <td>114461.0</td>\n",
              "      <td>0.0</td>\n",
              "    </tr>\n",
              "    <tr>\n",
              "      <th>2020-05-27</th>\n",
              "      <td>117896.0</td>\n",
              "      <td>3435.0</td>\n",
              "    </tr>\n",
              "    <tr>\n",
              "      <th>2020-05-28</th>\n",
              "      <td>118983.0</td>\n",
              "      <td>1087.0</td>\n",
              "    </tr>\n",
              "    <tr>\n",
              "      <th>2020-05-29</th>\n",
              "      <td>118983.0</td>\n",
              "      <td>0.0</td>\n",
              "    </tr>\n",
              "    <tr>\n",
              "      <th>2020-05-30</th>\n",
              "      <td>122698.0</td>\n",
              "      <td>3715.0</td>\n",
              "    </tr>\n",
              "    <tr>\n",
              "      <th>2020-05-31</th>\n",
              "      <td>122698.0</td>\n",
              "      <td>0.0</td>\n",
              "    </tr>\n",
              "    <tr>\n",
              "      <th>2020-06-01</th>\n",
              "      <td>122698.0</td>\n",
              "      <td>0.0</td>\n",
              "    </tr>\n",
              "    <tr>\n",
              "      <th>2020-06-02</th>\n",
              "      <td>128789.0</td>\n",
              "      <td>6091.0</td>\n",
              "    </tr>\n",
              "    <tr>\n",
              "      <th>2020-06-03</th>\n",
              "      <td>128789.0</td>\n",
              "      <td>0.0</td>\n",
              "    </tr>\n",
              "    <tr>\n",
              "      <th>2020-06-04</th>\n",
              "      <td>128789.0</td>\n",
              "      <td>0.0</td>\n",
              "    </tr>\n",
              "    <tr>\n",
              "      <th>2020-06-05</th>\n",
              "      <td>136770.0</td>\n",
              "      <td>7981.0</td>\n",
              "    </tr>\n",
              "    <tr>\n",
              "      <th>2020-06-06</th>\n",
              "      <td>136770.0</td>\n",
              "      <td>0.0</td>\n",
              "    </tr>\n",
              "    <tr>\n",
              "      <th>2020-06-07</th>\n",
              "      <td>136770.0</td>\n",
              "      <td>0.0</td>\n",
              "    </tr>\n",
              "    <tr>\n",
              "      <th>2020-06-08</th>\n",
              "      <td>145325.0</td>\n",
              "      <td>8555.0</td>\n",
              "    </tr>\n",
              "    <tr>\n",
              "      <th>2020-06-09</th>\n",
              "      <td>145331.0</td>\n",
              "      <td>6.0</td>\n",
              "    </tr>\n",
              "    <tr>\n",
              "      <th>2020-06-10</th>\n",
              "      <td>145331.0</td>\n",
              "      <td>0.0</td>\n",
              "    </tr>\n",
              "    <tr>\n",
              "      <th>2020-06-11</th>\n",
              "      <td>154942.0</td>\n",
              "      <td>9611.0</td>\n",
              "    </tr>\n",
              "    <tr>\n",
              "      <th>2020-06-12</th>\n",
              "      <td>160586.0</td>\n",
              "      <td>5644.0</td>\n",
              "    </tr>\n",
              "    <tr>\n",
              "      <th>2020-06-13</th>\n",
              "      <td>160586.0</td>\n",
              "      <td>0.0</td>\n",
              "    </tr>\n",
              "    <tr>\n",
              "      <th>2020-06-14</th>\n",
              "      <td>166752.0</td>\n",
              "      <td>6166.0</td>\n",
              "    </tr>\n",
              "    <tr>\n",
              "      <th>2020-06-15</th>\n",
              "      <td>166752.0</td>\n",
              "      <td>0.0</td>\n",
              "    </tr>\n",
              "    <tr>\n",
              "      <th>2020-06-16</th>\n",
              "      <td>166995.0</td>\n",
              "      <td>243.0</td>\n",
              "    </tr>\n",
              "  </tbody>\n",
              "</table>\n",
              "</div>"
            ],
            "text/plain": [
              "            Predicted Cases  PredictedDailyBedCount\n",
              "date                                               \n",
              "2020-05-18          98720.0                  3022.0\n",
              "2020-05-19         105468.0                  6748.0\n",
              "2020-05-20         105468.0                     0.0\n",
              "2020-05-21         105468.0                     0.0\n",
              "2020-05-22         107384.0                  1916.0\n",
              "2020-05-23         110062.0                  2678.0\n",
              "2020-05-24         114461.0                  4399.0\n",
              "2020-05-25         114461.0                     0.0\n",
              "2020-05-26         114461.0                     0.0\n",
              "2020-05-27         117896.0                  3435.0\n",
              "2020-05-28         118983.0                  1087.0\n",
              "2020-05-29         118983.0                     0.0\n",
              "2020-05-30         122698.0                  3715.0\n",
              "2020-05-31         122698.0                     0.0\n",
              "2020-06-01         122698.0                     0.0\n",
              "2020-06-02         128789.0                  6091.0\n",
              "2020-06-03         128789.0                     0.0\n",
              "2020-06-04         128789.0                     0.0\n",
              "2020-06-05         136770.0                  7981.0\n",
              "2020-06-06         136770.0                     0.0\n",
              "2020-06-07         136770.0                     0.0\n",
              "2020-06-08         145325.0                  8555.0\n",
              "2020-06-09         145331.0                     6.0\n",
              "2020-06-10         145331.0                     0.0\n",
              "2020-06-11         154942.0                  9611.0\n",
              "2020-06-12         160586.0                  5644.0\n",
              "2020-06-13         160586.0                     0.0\n",
              "2020-06-14         166752.0                  6166.0\n",
              "2020-06-15         166752.0                     0.0\n",
              "2020-06-16         166995.0                   243.0"
            ]
          },
          "metadata": {
            "tags": []
          },
          "execution_count": 49
        }
      ]
    },
    {
      "cell_type": "markdown",
      "metadata": {
        "id": "Xmx0b2qct4h7",
        "colab_type": "text"
      },
      "source": [
        ""
      ]
    },
    {
      "cell_type": "markdown",
      "metadata": {
        "id": "YF2-psTyt3cN",
        "colab_type": "text"
      },
      "source": [
        ""
      ]
    },
    {
      "cell_type": "markdown",
      "metadata": {
        "id": "tC2To3AribwC",
        "colab_type": "text"
      },
      "source": [
        ""
      ]
    }
  ]
}